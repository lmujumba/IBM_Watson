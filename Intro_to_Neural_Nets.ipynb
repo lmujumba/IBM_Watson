{
  "nbformat": 4,
  "nbformat_minor": 0,
  "metadata": {
    "colab": {
      "name": "Intro to Neural Nets.ipynb",
      "provenance": [],
      "collapsed_sections": [],
      "include_colab_link": true
    },
    "kernelspec": {
      "name": "python3",
      "display_name": "Python 3"
    }
  },
  "cells": [
    {
      "cell_type": "markdown",
      "metadata": {
        "id": "view-in-github",
        "colab_type": "text"
      },
      "source": [
        "<a href=\"https://colab.research.google.com/github/lmujumba/IBM_Watson/blob/main/Intro_to_Neural_Nets.ipynb\" target=\"_parent\"><img src=\"https://colab.research.google.com/assets/colab-badge.svg\" alt=\"Open In Colab\"/></a>"
      ]
    },
    {
      "cell_type": "code",
      "metadata": {
        "id": "wDlWLbfkJtvu",
        "cellView": "form"
      },
      "source": [
        "#@title Copyright 2020 Google LLC. Double-click here for license information.\n",
        "# Licensed under the Apache License, Version 2.0 (the \"License\");\n",
        "# you may not use this file except in compliance with the License.\n",
        "# You may obtain a copy of the License at\n",
        "#\n",
        "# https://www.apache.org/licenses/LICENSE-2.0\n",
        "#\n",
        "# Unless required by applicable law or agreed to in writing, software\n",
        "# distributed under the License is distributed on an \"AS IS\" BASIS,\n",
        "# WITHOUT WARRANTIES OR CONDITIONS OF ANY KIND, either express or implied.\n",
        "# See the License for the specific language governing permissions and\n",
        "# limitations under the License."
      ],
      "execution_count": null,
      "outputs": []
    },
    {
      "cell_type": "markdown",
      "metadata": {
        "id": "TL5y5fY9Jy_x"
      },
      "source": [
        "# Introduction to Neural Nets\n",
        "\n",
        "This Colab builds a deep neural network to perform more sophisticated linear regression than the earlier Colabs."
      ]
    },
    {
      "cell_type": "markdown",
      "metadata": {
        "id": "7RDY3EeAluPd"
      },
      "source": [
        "## Learning Objectives:\n",
        "\n",
        "After doing this Colab, you'll know how to do the following:\n",
        "\n",
        "  * Create a simple deep neural network.\n",
        "  * Tune the hyperparameters for a simple deep neural network."
      ]
    },
    {
      "cell_type": "markdown",
      "metadata": {
        "id": "XGj0PNaJlubZ"
      },
      "source": [
        "## The Dataset\n",
        "  \n",
        "Like several of the previous Colabs, this Colab uses the [California Housing Dataset](https://developers.google.com/machine-learning/crash-course/california-housing-data-description)."
      ]
    },
    {
      "cell_type": "markdown",
      "metadata": {
        "id": "tX_umRMMsa3z"
      },
      "source": [
        "## Use the right version of TensorFlow\n",
        "\n",
        "The following hidden code cell ensures that the Colab will run on TensorFlow 2.X."
      ]
    },
    {
      "cell_type": "code",
      "metadata": {
        "id": "lM75uNH-sTv2",
        "cellView": "form"
      },
      "source": [
        "#@title Run on TensorFlow 2.x\n",
        "%tensorflow_version 2.x\n",
        "from __future__ import absolute_import, division, print_function, unicode_literals"
      ],
      "execution_count": null,
      "outputs": []
    },
    {
      "cell_type": "markdown",
      "metadata": {
        "id": "xchnxAsaKKqO"
      },
      "source": [
        "## Import relevant modules\n",
        "\n",
        "The following hidden code cell imports the necessary code to run the code in the rest of this Colaboratory."
      ]
    },
    {
      "cell_type": "code",
      "metadata": {
        "id": "9n9_cTveKmse",
        "colab": {
          "base_uri": "https://localhost:8080/"
        },
        "outputId": "7b8876a4-df87-43ee-c5b5-9f671716ab80"
      },
      "source": [
        "#@title Import relevant modules\n",
        "import numpy as np\n",
        "import pandas as pd\n",
        "import tensorflow as tf\n",
        "from tensorflow.keras import layers\n",
        "from matplotlib import pyplot as plt\n",
        "import seaborn as sns\n",
        "\n",
        "# The following lines adjust the granularity of reporting. \n",
        "pd.options.display.max_rows = 10\n",
        "pd.options.display.float_format = \"{:.1f}\".format\n",
        "\n",
        "print(\"Imported modules.\")"
      ],
      "execution_count": null,
      "outputs": [
        {
          "output_type": "stream",
          "name": "stdout",
          "text": [
            "Imported modules.\n"
          ]
        }
      ]
    },
    {
      "cell_type": "markdown",
      "metadata": {
        "id": "X_TaJhU4KcuY"
      },
      "source": [
        "## Load the dataset\n",
        "\n",
        "Like most of the previous Colab exercises, this exercise uses the California Housing Dataset.  The following code cell loads the separate .csv files and creates the following two pandas DataFrames:\n",
        "\n",
        "* `train_df`, which contains the training set\n",
        "* `test_df`, which contains the test set\n",
        "   "
      ]
    },
    {
      "cell_type": "code",
      "metadata": {
        "id": "JZlvdpyYKx7V"
      },
      "source": [
        "train_df = pd.read_csv(\"https://download.mlcc.google.com/mledu-datasets/california_housing_train.csv\")\n",
        "train_df = train_df.reindex(np.random.permutation(train_df.index)) # shuffle the examples\n",
        "test_df = pd.read_csv(\"https://download.mlcc.google.com/mledu-datasets/california_housing_test.csv\")"
      ],
      "execution_count": null,
      "outputs": []
    },
    {
      "cell_type": "code",
      "metadata": {
        "colab": {
          "base_uri": "https://localhost:8080/",
          "height": 206
        },
        "id": "1QOc47hhMXq-",
        "outputId": "b291f1c6-7195-406a-b76a-93d050b96f48"
      },
      "source": [
        "train_df.head()"
      ],
      "execution_count": null,
      "outputs": [
        {
          "output_type": "execute_result",
          "data": {
            "text/html": [
              "<div>\n",
              "<style scoped>\n",
              "    .dataframe tbody tr th:only-of-type {\n",
              "        vertical-align: middle;\n",
              "    }\n",
              "\n",
              "    .dataframe tbody tr th {\n",
              "        vertical-align: top;\n",
              "    }\n",
              "\n",
              "    .dataframe thead th {\n",
              "        text-align: right;\n",
              "    }\n",
              "</style>\n",
              "<table border=\"1\" class=\"dataframe\">\n",
              "  <thead>\n",
              "    <tr style=\"text-align: right;\">\n",
              "      <th></th>\n",
              "      <th>longitude</th>\n",
              "      <th>latitude</th>\n",
              "      <th>housing_median_age</th>\n",
              "      <th>total_rooms</th>\n",
              "      <th>total_bedrooms</th>\n",
              "      <th>population</th>\n",
              "      <th>households</th>\n",
              "      <th>median_income</th>\n",
              "      <th>median_house_value</th>\n",
              "    </tr>\n",
              "  </thead>\n",
              "  <tbody>\n",
              "    <tr>\n",
              "      <th>14761</th>\n",
              "      <td>-122.2</td>\n",
              "      <td>37.8</td>\n",
              "      <td>35.0</td>\n",
              "      <td>2865.0</td>\n",
              "      <td>460.0</td>\n",
              "      <td>1072.0</td>\n",
              "      <td>443.0</td>\n",
              "      <td>7.5</td>\n",
              "      <td>319300.0</td>\n",
              "    </tr>\n",
              "    <tr>\n",
              "      <th>8142</th>\n",
              "      <td>-118.4</td>\n",
              "      <td>34.1</td>\n",
              "      <td>46.0</td>\n",
              "      <td>778.0</td>\n",
              "      <td>90.0</td>\n",
              "      <td>238.0</td>\n",
              "      <td>93.0</td>\n",
              "      <td>15.0</td>\n",
              "      <td>500001.0</td>\n",
              "    </tr>\n",
              "    <tr>\n",
              "      <th>7903</th>\n",
              "      <td>-118.4</td>\n",
              "      <td>34.0</td>\n",
              "      <td>36.0</td>\n",
              "      <td>1225.0</td>\n",
              "      <td>213.0</td>\n",
              "      <td>591.0</td>\n",
              "      <td>227.0</td>\n",
              "      <td>5.5</td>\n",
              "      <td>326700.0</td>\n",
              "    </tr>\n",
              "    <tr>\n",
              "      <th>2397</th>\n",
              "      <td>-117.5</td>\n",
              "      <td>33.9</td>\n",
              "      <td>25.0</td>\n",
              "      <td>2999.0</td>\n",
              "      <td>439.0</td>\n",
              "      <td>1396.0</td>\n",
              "      <td>458.0</td>\n",
              "      <td>5.7</td>\n",
              "      <td>164800.0</td>\n",
              "    </tr>\n",
              "    <tr>\n",
              "      <th>3805</th>\n",
              "      <td>-117.9</td>\n",
              "      <td>33.8</td>\n",
              "      <td>28.0</td>\n",
              "      <td>604.0</td>\n",
              "      <td>207.0</td>\n",
              "      <td>615.0</td>\n",
              "      <td>212.0</td>\n",
              "      <td>3.6</td>\n",
              "      <td>182100.0</td>\n",
              "    </tr>\n",
              "  </tbody>\n",
              "</table>\n",
              "</div>"
            ],
            "text/plain": [
              "       longitude  latitude  ...  median_income  median_house_value\n",
              "14761     -122.2      37.8  ...            7.5            319300.0\n",
              "8142      -118.4      34.1  ...           15.0            500001.0\n",
              "7903      -118.4      34.0  ...            5.5            326700.0\n",
              "2397      -117.5      33.9  ...            5.7            164800.0\n",
              "3805      -117.9      33.8  ...            3.6            182100.0\n",
              "\n",
              "[5 rows x 9 columns]"
            ]
          },
          "metadata": {},
          "execution_count": 5
        }
      ]
    },
    {
      "cell_type": "markdown",
      "metadata": {
        "id": "8ldP-5z1B2vL"
      },
      "source": [
        "## Normalize / Standardize values\n",
        "\n",
        "When building a model with multiple features, the values of each feature should cover roughly the same range.  The following code cell normalizes datasets by converting each raw value to its Z-score. (For more information about Z-scores, see the Classification exercise.)"
      ]
    },
    {
      "cell_type": "code",
      "metadata": {
        "id": "g8HC-TDgB1D1",
        "colab": {
          "base_uri": "https://localhost:8080/"
        },
        "outputId": "39f2a29c-75ed-40b3-94fa-b2fa0260af1b"
      },
      "source": [
        "#@title Convert raw values to their Z-scores \n",
        "\n",
        "# Calculate the Z-scores of each column in the training set:\n",
        "train_df_mean = train_df.mean()\n",
        "train_df_std = train_df.std()\n",
        "train_df_norm = (train_df - train_df_mean)/train_df_std\n",
        "\n",
        "# Calculate the Z-scores of each column in the test set.\n",
        "test_df_mean = test_df.mean()\n",
        "test_df_std = test_df.std()\n",
        "test_df_norm = (test_df - test_df_mean)/test_df_std\n",
        "\n",
        "print(\"Normalized the values.\")"
      ],
      "execution_count": null,
      "outputs": [
        {
          "output_type": "stream",
          "name": "stdout",
          "text": [
            "Normalized the values.\n"
          ]
        }
      ]
    },
    {
      "cell_type": "markdown",
      "metadata": {
        "id": "b9ehCgIRjTxy"
      },
      "source": [
        "## Represent data\n",
        "\n",
        "The following code cell creates a feature layer containing three features:\n",
        "\n",
        "* `latitude` X `longitude` (a feature cross)\n",
        "* `median_income`\n",
        "* `population`\n",
        "\n",
        "This code cell specifies the features that you'll ultimately train the model on and how each of those features will be represented. The transformations (collected in `my_feature_layer`) don't actually get applied until you pass a DataFrame to it, which will happen when we train the model. "
      ]
    },
    {
      "cell_type": "code",
      "metadata": {
        "id": "8EkNAQhnjSu-"
      },
      "source": [
        "# Create an empty list that will eventually hold all created feature columns.\n",
        "feature_columns = []\n",
        "\n",
        "# We scaled all the columns, including latitude and longitude, into their\n",
        "# Z scores. So, instead of picking a resolution in degrees, we're going\n",
        "# to use resolution_in_Zs.  A resolution_in_Zs of 1 corresponds to \n",
        "# a full standard deviation. \n",
        "resolution_in_Zs = 0.3  # 3/10 of a standard deviation.\n",
        "\n",
        "# Create a bucket feature column for latitude.\n",
        "latitude_as_a_numeric_column = tf.feature_column.numeric_column(\"latitude\")\n",
        "latitude_boundaries = list(np.arange(int(min(train_df_norm['latitude'])), \n",
        "                                     int(max(train_df_norm['latitude'])), \n",
        "                                     resolution_in_Zs))\n",
        "latitude = tf.feature_column.bucketized_column(latitude_as_a_numeric_column, latitude_boundaries)\n",
        "\n",
        "# Create a bucket feature column for longitude.\n",
        "longitude_as_a_numeric_column = tf.feature_column.numeric_column(\"longitude\")\n",
        "longitude_boundaries = list(np.arange(int(min(train_df_norm['longitude'])), \n",
        "                                      int(max(train_df_norm['longitude'])), \n",
        "                                      resolution_in_Zs))\n",
        "longitude = tf.feature_column.bucketized_column(longitude_as_a_numeric_column, \n",
        "                                                longitude_boundaries)\n",
        "\n",
        "# Create a feature cross of latitude and longitude.\n",
        "latitude_x_longitude = tf.feature_column.crossed_column([latitude, longitude], hash_bucket_size=100)\n",
        "crossed_feature = tf.feature_column.indicator_column(latitude_x_longitude)\n",
        "feature_columns.append(crossed_feature)  \n",
        "\n",
        "# Represent median_income as a floating-point value.\n",
        "median_income = tf.feature_column.numeric_column(\"median_income\")\n",
        "feature_columns.append(median_income)\n",
        "\n",
        "# Represent population as a floating-point value.\n",
        "population = tf.feature_column.numeric_column(\"population\")\n",
        "feature_columns.append(population)\n",
        "\n",
        "# Convert the list of feature columns into a layer that will later be fed into\n",
        "# the model. \n",
        "my_feature_layer = tf.keras.layers.DenseFeatures(feature_columns)"
      ],
      "execution_count": null,
      "outputs": []
    },
    {
      "cell_type": "markdown",
      "metadata": {
        "id": "Ak_TMAzGOIFq"
      },
      "source": [
        "## Build a linear regression model as a baseline\n",
        "\n",
        "Before creating a deep neural net, find a [baseline](https://developers.google.com/machine-learning/glossary/#baseline) loss by running a simple linear regression model that uses the feature layer you just created. \n"
      ]
    },
    {
      "cell_type": "code",
      "metadata": {
        "id": "QF0BFRXTOeR3",
        "colab": {
          "base_uri": "https://localhost:8080/"
        },
        "outputId": "7c914760-d469-4a25-96d2-bd0164af5f68"
      },
      "source": [
        "#@title Define the plotting function.\n",
        "\n",
        "def plot_the_loss_curve(epochs, mse):\n",
        "  \"\"\"Plot a curve of loss vs. epoch.\"\"\"\n",
        "\n",
        "  plt.figure()\n",
        "  plt.xlabel(\"Epoch\")\n",
        "  plt.ylabel(\"Mean Squared Error\")\n",
        "\n",
        "  plt.plot(epochs, mse, label=\"Loss\")\n",
        "  plt.legend()\n",
        "  plt.ylim([mse.min()*0.95, mse.max() * 1.03])\n",
        "  plt.show()  \n",
        "\n",
        "print(\"Defined the plot_the_loss_curve function.\")"
      ],
      "execution_count": null,
      "outputs": [
        {
          "output_type": "stream",
          "name": "stdout",
          "text": [
            "Defined the plot_the_loss_curve function.\n"
          ]
        }
      ]
    },
    {
      "cell_type": "code",
      "metadata": {
        "id": "RW4Qe710LgnG",
        "colab": {
          "base_uri": "https://localhost:8080/"
        },
        "outputId": "d1c8b715-d04d-415d-a011-99e7a53e8c93"
      },
      "source": [
        "#@title Define functions to create and train a linear regression model\n",
        "def create_model(my_learning_rate, feature_layer):\n",
        "  \"\"\"Create and compile a simple linear regression model.\"\"\"\n",
        "  # Most simple tf.keras models are sequential.\n",
        "  model = tf.keras.models.Sequential()\n",
        "\n",
        "  # Add the layer containing the feature columns to the model.\n",
        "  model.add(feature_layer)\n",
        "\n",
        "  # Add one linear layer to the model to yield a simple linear regressor.\n",
        "  model.add(tf.keras.layers.Dense(units=1, input_shape=(1,)))\n",
        "\n",
        "  # Construct the layers into a model that TensorFlow can execute.\n",
        "  model.compile(optimizer=tf.keras.optimizers.RMSprop(lr=my_learning_rate),\n",
        "                loss=\"mean_squared_error\",\n",
        "                metrics=[tf.keras.metrics.MeanSquaredError()])\n",
        "\n",
        "  return model           \n",
        "\n",
        "\n",
        "def train_model(model, dataset, epochs, batch_size, label_name):\n",
        "  \"\"\"Feed a dataset into the model in order to train it.\"\"\"\n",
        "\n",
        "  # Split the dataset into features and label.\n",
        "  features = {name:np.array(value) for name, value in dataset.items()}\n",
        "  label = np.array(features.pop(label_name))\n",
        "  history = model.fit(x=features, y=label, batch_size=batch_size,\n",
        "                      epochs=epochs, shuffle=True)\n",
        "\n",
        "  # Get details that will be useful for plotting the loss curve.\n",
        "  epochs = history.epoch\n",
        "  hist = pd.DataFrame(history.history)\n",
        "  rmse = hist[\"mean_squared_error\"]\n",
        "\n",
        "  return epochs, rmse   \n",
        "\n",
        "print(\"Defined the create_model and train_model functions.\")"
      ],
      "execution_count": null,
      "outputs": [
        {
          "output_type": "stream",
          "name": "stdout",
          "text": [
            "Defined the create_model and train_model functions.\n"
          ]
        }
      ]
    },
    {
      "cell_type": "markdown",
      "metadata": {
        "id": "f47LmxF5X_pu"
      },
      "source": [
        "Run the following code cell to invoke the the functions defined in the preceding two code cells. (Ignore the warning messages.)\n",
        "\n",
        "**Note:** Because we've scaled all the input data, **including the label**, the resulting loss values will be *much less* than previous models. \n",
        "\n",
        "**Note:** Depending on the version of TensorFlow, running this cell might generate WARNING messages. Please ignore these warnings. "
      ]
    },
    {
      "cell_type": "code",
      "metadata": {
        "id": "tsfE4ujDL4ju",
        "colab": {
          "base_uri": "https://localhost:8080/",
          "height": 1000
        },
        "outputId": "d1926990-f397-4c0b-ea78-094289349585"
      },
      "source": [
        "# The following variables are the hyperparameters.\n",
        "learning_rate = 0.01\n",
        "epochs = 15\n",
        "batch_size = 1000\n",
        "label_name = \"median_house_value\"\n",
        "\n",
        "# Establish the model's topography.\n",
        "my_model = create_model(learning_rate, my_feature_layer)\n",
        "\n",
        "# Train the model on the normalized training set.\n",
        "epochs, mse = train_model(my_model, train_df_norm, epochs, batch_size, label_name)\n",
        "plot_the_loss_curve(epochs, mse)\n",
        "\n",
        "test_features = {name:np.array(value) for name, value in test_df_norm.items()}\n",
        "\n",
        "test_label = np.array(test_features.pop(label_name)) # isolate the label\n",
        "\n",
        "print(\"\\n Evaluate the linear regression model against the test set:\")\n",
        "\n",
        "my_model.evaluate(x = test_features, y = test_label, batch_size=batch_size)"
      ],
      "execution_count": null,
      "outputs": [
        {
          "output_type": "stream",
          "name": "stderr",
          "text": [
            "/usr/local/lib/python3.7/dist-packages/keras/optimizer_v2/rmsprop.py:130: UserWarning: The `lr` argument is deprecated, use `learning_rate` instead.\n",
            "  super(RMSprop, self).__init__(name, **kwargs)\n"
          ]
        },
        {
          "output_type": "stream",
          "name": "stdout",
          "text": [
            "Epoch 1/15\n",
            "WARNING:tensorflow:Layers in a Sequential model should only have a single input tensor, but we receive a <class 'dict'> input: {'longitude': <tf.Tensor 'IteratorGetNext:3' shape=(1000,) dtype=float32>, 'latitude': <tf.Tensor 'IteratorGetNext:2' shape=(1000,) dtype=float32>, 'housing_median_age': <tf.Tensor 'IteratorGetNext:1' shape=(1000,) dtype=float32>, 'total_rooms': <tf.Tensor 'IteratorGetNext:7' shape=(1000,) dtype=float32>, 'total_bedrooms': <tf.Tensor 'IteratorGetNext:6' shape=(1000,) dtype=float32>, 'population': <tf.Tensor 'IteratorGetNext:5' shape=(1000,) dtype=float32>, 'households': <tf.Tensor 'IteratorGetNext:0' shape=(1000,) dtype=float32>, 'median_income': <tf.Tensor 'IteratorGetNext:4' shape=(1000,) dtype=float32>}\n",
            "Consider rewriting this model with the Functional API.\n",
            "WARNING:tensorflow:Layers in a Sequential model should only have a single input tensor, but we receive a <class 'dict'> input: {'longitude': <tf.Tensor 'IteratorGetNext:3' shape=(1000,) dtype=float32>, 'latitude': <tf.Tensor 'IteratorGetNext:2' shape=(1000,) dtype=float32>, 'housing_median_age': <tf.Tensor 'IteratorGetNext:1' shape=(1000,) dtype=float32>, 'total_rooms': <tf.Tensor 'IteratorGetNext:7' shape=(1000,) dtype=float32>, 'total_bedrooms': <tf.Tensor 'IteratorGetNext:6' shape=(1000,) dtype=float32>, 'population': <tf.Tensor 'IteratorGetNext:5' shape=(1000,) dtype=float32>, 'households': <tf.Tensor 'IteratorGetNext:0' shape=(1000,) dtype=float32>, 'median_income': <tf.Tensor 'IteratorGetNext:4' shape=(1000,) dtype=float32>}\n",
            "Consider rewriting this model with the Functional API.\n",
            "17/17 [==============================] - 1s 3ms/step - loss: 0.7101 - mean_squared_error: 0.7101\n",
            "Epoch 2/15\n",
            "17/17 [==============================] - 0s 2ms/step - loss: 0.4904 - mean_squared_error: 0.4904\n",
            "Epoch 3/15\n",
            "17/17 [==============================] - 0s 3ms/step - loss: 0.4023 - mean_squared_error: 0.4023\n",
            "Epoch 4/15\n",
            "17/17 [==============================] - 0s 2ms/step - loss: 0.3706 - mean_squared_error: 0.3706\n",
            "Epoch 5/15\n",
            "17/17 [==============================] - 0s 3ms/step - loss: 0.3630 - mean_squared_error: 0.3630\n",
            "Epoch 6/15\n",
            "17/17 [==============================] - 0s 3ms/step - loss: 0.3610 - mean_squared_error: 0.3610\n",
            "Epoch 7/15\n",
            "17/17 [==============================] - 0s 3ms/step - loss: 0.3603 - mean_squared_error: 0.3603\n",
            "Epoch 8/15\n",
            "17/17 [==============================] - 0s 3ms/step - loss: 0.3604 - mean_squared_error: 0.3604\n",
            "Epoch 9/15\n",
            "17/17 [==============================] - 0s 3ms/step - loss: 0.3601 - mean_squared_error: 0.3601\n",
            "Epoch 10/15\n",
            "17/17 [==============================] - 0s 3ms/step - loss: 0.3602 - mean_squared_error: 0.3602\n",
            "Epoch 11/15\n",
            "17/17 [==============================] - 0s 3ms/step - loss: 0.3598 - mean_squared_error: 0.3598\n",
            "Epoch 12/15\n",
            "17/17 [==============================] - 0s 3ms/step - loss: 0.3601 - mean_squared_error: 0.3601\n",
            "Epoch 13/15\n",
            "17/17 [==============================] - 0s 4ms/step - loss: 0.3597 - mean_squared_error: 0.3597\n",
            "Epoch 14/15\n",
            "17/17 [==============================] - 0s 4ms/step - loss: 0.3600 - mean_squared_error: 0.3600\n",
            "Epoch 15/15\n",
            "17/17 [==============================] - 0s 4ms/step - loss: 0.3596 - mean_squared_error: 0.3596\n"
          ]
        },
        {
          "output_type": "display_data",
          "data": {
            "image/png": "[encoded data removed]",
            "text/plain": [
              "<Figure size 432x288 with 1 Axes>"
            ]
          },
          "metadata": {
            "needs_background": "light"
          }
        },
        {
          "output_type": "stream",
          "name": "stdout",
          "text": [
            "\n",
            " Evaluate the linear regression model against the test set:\n",
            "WARNING:tensorflow:Layers in a Sequential model should only have a single input tensor, but we receive a <class 'dict'> input: {'longitude': <tf.Tensor 'IteratorGetNext:3' shape=(1000,) dtype=float32>, 'latitude': <tf.Tensor 'IteratorGetNext:2' shape=(1000,) dtype=float32>, 'housing_median_age': <tf.Tensor 'IteratorGetNext:1' shape=(1000,) dtype=float32>, 'total_rooms': <tf.Tensor 'IteratorGetNext:7' shape=(1000,) dtype=float32>, 'total_bedrooms': <tf.Tensor 'IteratorGetNext:6' shape=(1000,) dtype=float32>, 'population': <tf.Tensor 'IteratorGetNext:5' shape=(1000,) dtype=float32>, 'households': <tf.Tensor 'IteratorGetNext:0' shape=(1000,) dtype=float32>, 'median_income': <tf.Tensor 'IteratorGetNext:4' shape=(1000,) dtype=float32>}\n",
            "Consider rewriting this model with the Functional API.\n",
            "3/3 [==============================] - 0s 6ms/step - loss: 0.3964 - mean_squared_error: 0.3964\n"
          ]
        },
        {
          "output_type": "execute_result",
          "data": {
            "text/plain": [
              "[0.3964240252971649, 0.3964240252971649]"
            ]
          },
          "metadata": {},
          "execution_count": 9
        }
      ]
    },
    {
      "cell_type": "markdown",
      "metadata": {
        "id": "3014ezH3C7jT"
      },
      "source": [
        "## Define a deep neural net model\n",
        "\n",
        "The `create_model` function defines the topography of the deep neural net, specifying the following:\n",
        "\n",
        "* The number of [layers](https://developers.google.com/machine-learning/glossary/#layer) in the deep neural net.\n",
        "* The number of [nodes](https://developers.google.com/machine-learning/glossary/#node) in each layer.\n",
        "\n",
        "The `create_model` function also defines the [activation function](https://developers.google.com/machine-learning/glossary/#activation_function) of each layer."
      ]
    },
    {
      "cell_type": "code",
      "metadata": {
        "id": "pedD5GhlDC-y",
        "cellView": "both"
      },
      "source": [
        "def create_model(my_learning_rate, my_feature_layer):\n",
        "  \"\"\"Create and compile a simple linear regression model.\"\"\"\n",
        "  # Most simple tf.keras models are sequential.\n",
        "  model = tf.keras.models.Sequential()\n",
        "\n",
        "  # Add the layer containing the feature columns to the model.\n",
        "  model.add(my_feature_layer)\n",
        "\n",
        "  # Describe the topography of the model by calling the tf.keras.layers.Dense\n",
        "  # method once for each layer. We've specified the following arguments:\n",
        "  #   * units specifies the number of nodes in this layer.\n",
        "  #   * activation specifies the activation function (Rectified Linear Unit).\n",
        "  #   * name is just a string that can be useful when debugging.\n",
        "\n",
        "  # Define the first hidden layer with 20 nodes.   \n",
        "  model.add(tf.keras.layers.Dense(units=20, \n",
        "                                  activation='relu', \n",
        "                                  name='Hidden1'))\n",
        "  \n",
        "  # Define the second hidden layer with 12 nodes. \n",
        "  model.add(tf.keras.layers.Dense(units=12, \n",
        "                                  activation='relu', \n",
        "                                  name='Hidden2'))\n",
        "  \n",
        "  # Define the output layer.\n",
        "  model.add(tf.keras.layers.Dense(units=1,  \n",
        "                                  name='Output'))                              \n",
        "  \n",
        "  model.compile(optimizer=tf.keras.optimizers.Adam(lr=my_learning_rate),\n",
        "                loss=\"mean_squared_error\",\n",
        "                metrics=[tf.keras.metrics.MeanSquaredError()])\n",
        "\n",
        "  return model"
      ],
      "execution_count": null,
      "outputs": []
    },
    {
      "cell_type": "markdown",
      "metadata": {
        "id": "anH4A_yCcZx2"
      },
      "source": [
        "## Define a training function\n",
        "\n",
        "The `train_model` function trains the model from the input features and labels. The [tf.keras.Model.fit](https://www.tensorflow.org/api_docs/python/tf/keras/Sequential#fit) method performs the actual training. The `x` parameter of the `fit` method is very flexible, enabling you to pass feature data in a variety of ways. The following implementation passes a Python dictionary in which:\n",
        "\n",
        "* The *keys* are the names of each feature (for example, `longitude`, `latitude`, and so on).\n",
        "* The *value* of each key is a NumPy array containing the values of that feature. \n",
        "\n",
        "**Note:** Although you are passing *every* feature to `model.fit`, most of those values will be ignored. Only the features accessed by `my_feature_layer` will actually be used to train the model."
      ]
    },
    {
      "cell_type": "code",
      "metadata": {
        "id": "4jv_lJYTcrEF"
      },
      "source": [
        "def train_model(model, dataset, epochs, label_name,\n",
        "                batch_size=None):\n",
        "  \"\"\"Train the model by feeding it data.\"\"\"\n",
        "\n",
        "  # Split the dataset into features and label.\n",
        "  features = {name:np.array(value) for name, value in dataset.items()}\n",
        "  label = np.array(features.pop(label_name))\n",
        "  history = model.fit(x=features, y=label, batch_size=batch_size,\n",
        "                      epochs=epochs, shuffle=True) \n",
        "\n",
        "  # The list of epochs is stored separately from the rest of history.\n",
        "  epochs = history.epoch\n",
        "  \n",
        "  # To track the progression of training, gather a snapshot\n",
        "  # of the model's mean squared error at each epoch. \n",
        "  hist = pd.DataFrame(history.history)\n",
        "  mse = hist[\"mean_squared_error\"]\n",
        "\n",
        "  return epochs, mse"
      ],
      "execution_count": null,
      "outputs": []
    },
    {
      "cell_type": "markdown",
      "metadata": {
        "id": "D-IXYVfvM4gD"
      },
      "source": [
        "## Call the functions to build and train a deep neural net\n",
        "\n",
        "Okay, it is time to actually train the deep neural net.  If time permits, experiment with the three hyperparameters to see if you can reduce the loss\n",
        "against the test set.\n"
      ]
    },
    {
      "cell_type": "code",
      "metadata": {
        "id": "nj3v5EKQFY8s",
        "cellView": "both",
        "colab": {
          "base_uri": "https://localhost:8080/",
          "height": 1000
        },
        "outputId": "71af5c3a-6f80-4e3e-ecb9-ad061b799ab4"
      },
      "source": [
        "# The following variables are the hyperparameters.\n",
        "learning_rate = 0.01\n",
        "epochs = 20\n",
        "batch_size = 1000\n",
        "\n",
        "# Specify the label\n",
        "label_name = \"median_house_value\"\n",
        "\n",
        "# Establish the model's topography.\n",
        "my_model = create_model(learning_rate, my_feature_layer)\n",
        "\n",
        "# Train the model on the normalized training set. We're passing the entire\n",
        "# normalized training set, but the model will only use the features\n",
        "# defined by the feature_layer.\n",
        "epochs, mse = train_model(my_model, train_df_norm, epochs, \n",
        "                          label_name, batch_size)\n",
        "plot_the_loss_curve(epochs, mse)\n",
        "\n",
        "# After building a model against the training set, test that model\n",
        "# against the test set.\n",
        "test_features = {name:np.array(value) for name, value in test_df_norm.items()}\n",
        "test_label = np.array(test_features.pop(label_name)) # isolate the label\n",
        "print(\"\\n Evaluate the new model against the test set:\")\n",
        "my_model.evaluate(x = test_features, y = test_label, batch_size=batch_size)"
      ],
      "execution_count": null,
      "outputs": [
        {
          "output_type": "stream",
          "name": "stdout",
          "text": [
            "Epoch 1/20\n",
            "WARNING:tensorflow:Layers in a Sequential model should only have a single input tensor, but we receive a <class 'dict'> input: {'longitude': <tf.Tensor 'IteratorGetNext:3' shape=(1000,) dtype=float32>, 'latitude': <tf.Tensor 'IteratorGetNext:2' shape=(1000,) dtype=float32>, 'housing_median_age': <tf.Tensor 'IteratorGetNext:1' shape=(1000,) dtype=float32>, 'total_rooms': <tf.Tensor 'IteratorGetNext:7' shape=(1000,) dtype=float32>, 'total_bedrooms': <tf.Tensor 'IteratorGetNext:6' shape=(1000,) dtype=float32>, 'population': <tf.Tensor 'IteratorGetNext:5' shape=(1000,) dtype=float32>, 'households': <tf.Tensor 'IteratorGetNext:0' shape=(1000,) dtype=float32>, 'median_income': <tf.Tensor 'IteratorGetNext:4' shape=(1000,) dtype=float32>}\n",
            "Consider rewriting this model with the Functional API.\n"
          ]
        },
        {
          "output_type": "stream",
          "name": "stderr",
          "text": [
            "/usr/local/lib/python3.7/dist-packages/keras/optimizer_v2/adam.py:105: UserWarning: The `lr` argument is deprecated, use `learning_rate` instead.\n",
            "  super(Adam, self).__init__(name, **kwargs)\n"
          ]
        },
        {
          "output_type": "stream",
          "name": "stdout",
          "text": [
            "WARNING:tensorflow:Layers in a Sequential model should only have a single input tensor, but we receive a <class 'dict'> input: {'longitude': <tf.Tensor 'IteratorGetNext:3' shape=(1000,) dtype=float32>, 'latitude': <tf.Tensor 'IteratorGetNext:2' shape=(1000,) dtype=float32>, 'housing_median_age': <tf.Tensor 'IteratorGetNext:1' shape=(1000,) dtype=float32>, 'total_rooms': <tf.Tensor 'IteratorGetNext:7' shape=(1000,) dtype=float32>, 'total_bedrooms': <tf.Tensor 'IteratorGetNext:6' shape=(1000,) dtype=float32>, 'population': <tf.Tensor 'IteratorGetNext:5' shape=(1000,) dtype=float32>, 'households': <tf.Tensor 'IteratorGetNext:0' shape=(1000,) dtype=float32>, 'median_income': <tf.Tensor 'IteratorGetNext:4' shape=(1000,) dtype=float32>}\n",
            "Consider rewriting this model with the Functional API.\n",
            "17/17 [==============================] - 1s 5ms/step - loss: 0.6140 - mean_squared_error: 0.6140\n",
            "Epoch 2/20\n",
            "17/17 [==============================] - 0s 4ms/step - loss: 0.3697 - mean_squared_error: 0.3697\n",
            "Epoch 3/20\n",
            "17/17 [==============================] - 0s 5ms/step - loss: 0.3449 - mean_squared_error: 0.3449\n",
            "Epoch 4/20\n",
            "17/17 [==============================] - 0s 4ms/step - loss: 0.3379 - mean_squared_error: 0.3379\n",
            "Epoch 5/20\n",
            "17/17 [==============================] - 0s 4ms/step - loss: 0.3342 - mean_squared_error: 0.3342\n",
            "Epoch 6/20\n",
            "17/17 [==============================] - 0s 5ms/step - loss: 0.3319 - mean_squared_error: 0.3319\n",
            "Epoch 7/20\n",
            "17/17 [==============================] - 0s 5ms/step - loss: 0.3306 - mean_squared_error: 0.3306\n",
            "Epoch 8/20\n",
            "17/17 [==============================] - 0s 4ms/step - loss: 0.3288 - mean_squared_error: 0.3288\n",
            "Epoch 9/20\n",
            "17/17 [==============================] - 0s 4ms/step - loss: 0.3282 - mean_squared_error: 0.3282\n",
            "Epoch 10/20\n",
            "17/17 [==============================] - 0s 3ms/step - loss: 0.3268 - mean_squared_error: 0.3268\n",
            "Epoch 11/20\n",
            "17/17 [==============================] - 0s 4ms/step - loss: 0.3261 - mean_squared_error: 0.3261\n",
            "Epoch 12/20\n",
            "17/17 [==============================] - 0s 4ms/step - loss: 0.3253 - mean_squared_error: 0.3253\n",
            "Epoch 13/20\n",
            "17/17 [==============================] - 0s 4ms/step - loss: 0.3260 - mean_squared_error: 0.3260\n",
            "Epoch 14/20\n",
            "17/17 [==============================] - 0s 4ms/step - loss: 0.3270 - mean_squared_error: 0.3270\n",
            "Epoch 15/20\n",
            "17/17 [==============================] - 0s 5ms/step - loss: 0.3243 - mean_squared_error: 0.3243\n",
            "Epoch 16/20\n",
            "17/17 [==============================] - 0s 6ms/step - loss: 0.3224 - mean_squared_error: 0.3224\n",
            "Epoch 17/20\n",
            "17/17 [==============================] - 0s 6ms/step - loss: 0.3236 - mean_squared_error: 0.3236\n",
            "Epoch 18/20\n",
            "17/17 [==============================] - 0s 5ms/step - loss: 0.3221 - mean_squared_error: 0.3221\n",
            "Epoch 19/20\n",
            "17/17 [==============================] - 0s 5ms/step - loss: 0.3216 - mean_squared_error: 0.3216\n",
            "Epoch 20/20\n",
            "17/17 [==============================] - 0s 5ms/step - loss: 0.3212 - mean_squared_error: 0.3212\n"
          ]
        },
        {
          "output_type": "display_data",
          "data": {
            "image/png": "[encoded data removed]",
            "text/plain": [
              "<Figure size 432x288 with 1 Axes>"
            ]
          },
          "metadata": {
            "needs_background": "light"
          }
        },
        {
          "output_type": "stream",
          "name": "stdout",
          "text": [
            "\n",
            " Evaluate the new model against the test set:\n",
            "WARNING:tensorflow:Layers in a Sequential model should only have a single input tensor, but we receive a <class 'dict'> input: {'longitude': <tf.Tensor 'IteratorGetNext:3' shape=(1000,) dtype=float32>, 'latitude': <tf.Tensor 'IteratorGetNext:2' shape=(1000,) dtype=float32>, 'housing_median_age': <tf.Tensor 'IteratorGetNext:1' shape=(1000,) dtype=float32>, 'total_rooms': <tf.Tensor 'IteratorGetNext:7' shape=(1000,) dtype=float32>, 'total_bedrooms': <tf.Tensor 'IteratorGetNext:6' shape=(1000,) dtype=float32>, 'population': <tf.Tensor 'IteratorGetNext:5' shape=(1000,) dtype=float32>, 'households': <tf.Tensor 'IteratorGetNext:0' shape=(1000,) dtype=float32>, 'median_income': <tf.Tensor 'IteratorGetNext:4' shape=(1000,) dtype=float32>}\n",
            "Consider rewriting this model with the Functional API.\n",
            "3/3 [==============================] - 0s 6ms/step - loss: 0.3632 - mean_squared_error: 0.3632\n"
          ]
        },
        {
          "output_type": "execute_result",
          "data": {
            "text/plain": [
              "[0.3632184565067291, 0.3632184565067291]"
            ]
          },
          "metadata": {},
          "execution_count": 12
        }
      ]
    },
    {
      "cell_type": "markdown",
      "metadata": {
        "id": "wlPXK-SmmjQ2"
      },
      "source": [
        "## Task 1: Compare the two models\n",
        "\n",
        "How did the deep neural net perform against the baseline linear regression model?"
      ]
    },
    {
      "cell_type": "code",
      "metadata": {
        "id": "hI7ojsL7nnBE"
      },
      "source": [
        "#@title Double-click to view a possible answer\n",
        "\n",
        "# Assuming that the linear model converged and\n",
        "# the deep neural net model also converged, please \n",
        "# compare the test set loss for each.\n",
        "# In our experiments, the loss of the deep neural \n",
        "# network model was consistently lower than \n",
        "# that of the linear regression model, which \n",
        "# suggests that the deep neural network model \n",
        "# will make better predictions than the \n",
        "# linear regression model."
      ],
      "execution_count": null,
      "outputs": []
    },
    {
      "cell_type": "markdown",
      "metadata": {
        "id": "Y5IKmk7D49_n"
      },
      "source": [
        "## Task 2: Optimize the deep neural network's topography\n",
        "\n",
        "Experiment with the number of layers of the deep neural network and the number of nodes in each layer.  Aim to achieve both of the following goals:\n",
        "\n",
        "*  Lower the loss against the test set.\n",
        "*  Minimize the overall number of nodes in the deep neural net. \n",
        "\n",
        "The two goals may be in conflict."
      ]
    },
    {
      "cell_type": "code",
      "metadata": {
        "id": "wYG5qXpP5a9n"
      },
      "source": [
        "#@title Double-click to view a possible answer\n",
        "\n",
        "# Many answers are possible.  We noticed the \n",
        "# following trends:\n",
        "#   * Two layers outperformed one layer, but \n",
        "#     three layers did not perform significantly \n",
        "#     better than two layers; two layers \n",
        "#     outperformed one layer.\n",
        "#     In other words, two layers seemed best. \n",
        "#   * Setting the topography as follows produced \n",
        "#     reasonably good results with relatively few \n",
        "#     nodes:\n",
        "#       * 10 nodes in the first layer.\n",
        "#       *  6 nodes in the second layer.\n",
        "#     As the number of nodes in each layer dropped\n",
        "#     below the preceding, test loss increased.  \n",
        "#     However, depending on your application, hardware\n",
        "#     constraints, and the relative pain inflicted \n",
        "#     by a less accurate model, a smaller network \n",
        "#     (for example, 6 nodes in the first layer and \n",
        "#     4 nodes in the second layer) might be \n",
        "#     acceptable."
      ],
      "execution_count": null,
      "outputs": []
    },
    {
      "cell_type": "markdown",
      "metadata": {
        "id": "Pu7R_ZpDopIj"
      },
      "source": [
        "## Task 3: Regularize the deep neural network (if you have enough time)\n",
        "\n",
        "Notice that the model's loss against the test set is *much higher* than the loss against the training set.  In other words, the deep neural network is [overfitting](https://developers.google.com/machine-learning/glossary/#overfitting) to the data in the training set.  To reduce overfitting, regularize the model.  The course has suggested several different ways to regularize a model, including:\n",
        "\n",
        "  * [L1 regularization](https://developers.google.com/machine-learning/glossary/#L1_regularization)\n",
        "  * [L2 regularization](https://developers.google.com/machine-learning/glossary/#L2_regularization)\n",
        "  * [Dropout regularization](https://developers.google.com/machine-learning/glossary/#dropout_regularization)\n",
        "\n",
        "Your task is to experiment with one or more regularization mechanisms to bring the test loss closer to the training loss (while still keeping test loss relatively low).  \n",
        "\n",
        "**Note:** When you add a regularization function to a model, you might need to tweak other hyperparameters. \n",
        "\n",
        "### Implementing L1 or L2 regularization\n",
        "\n",
        "To use L1 or L2 regularization on a hidden layer, specify the `kernel_regularizer` argument to [tf.keras.layers.Dense](https://www.tensorflow.org/api_docs/python/tf/keras/layers/Dense). Assign one of the following methods to this argument:\n",
        "\n",
        "* `tf.keras.regularizers.l1` for L1 regularization\n",
        "* `tf.keras.regularizers.l2` for L2 regularization\n",
        "\n",
        "Each of the preceding methods takes an `l` parameter, which adjusts the [regularization rate](https://developers.google.com/machine-learning/glossary/#regularization_rate). Assign a decimal value between 0 and 1.0 to `l`; the higher the decimal, the greater the regularization. For example, the following applies L2 regularization at a strength of 0.05. \n",
        "\n",
        "```\n",
        "model.add(tf.keras.layers.Dense(units=20, \n",
        "                                activation='relu',\n",
        "                                kernel_regularizer=tf.keras.regularizers.l2(l=0.01),\n",
        "                                name='Hidden1'))\n",
        "```\n",
        "\n",
        "### Implementing Dropout regularization\n",
        "\n",
        "You implement dropout regularization as a separate layer in the topography. For example, the following code demonstrates how to add a dropout regularization layer between the first hidden layer and the second hidden layer:\n",
        "\n",
        "```\n",
        "model.add(tf.keras.layers.Dense( *define first hidden layer*)\n",
        " \n",
        "model.add(tf.keras.layers.Dropout(rate=0.25))\n",
        "\n",
        "model.add(tf.keras.layers.Dense( *define second hidden layer*)\n",
        "```\n",
        "\n",
        "The `rate` parameter to [tf.keras.layers.Dropout](https://www.tensorflow.org/api_docs/python/tf/keras/layers/Dropout) specifies the fraction of nodes that the model should drop out during training. \n"
      ]
    },
    {
      "cell_type": "code",
      "metadata": {
        "id": "tflt9TZEDARW",
        "colab": {
          "base_uri": "https://localhost:8080/",
          "height": 1000
        },
        "outputId": "20c78945-1b1c-4894-af57-5190d51b37de"
      },
      "source": [
        "#@title Double-click for a possible solution\n",
        "\n",
        "# The following \"solution\" uses L2 regularization to bring training loss\n",
        "# and test loss closer to each other. Many, many other solutions are possible.\n",
        "\n",
        "\n",
        "def create_model(my_learning_rate, my_feature_layer):\n",
        "  \"\"\"Create and compile a simple linear regression model.\"\"\"\n",
        "\n",
        "  # Discard any pre-existing version of the model.\n",
        "  model = None\n",
        "\n",
        "  # Most simple tf.keras models are sequential.\n",
        "  model = tf.keras.models.Sequential()\n",
        "\n",
        "  # Add the layer containing the feature columns to the model.\n",
        "  model.add(my_feature_layer)\n",
        "\n",
        "  # Describe the topography of the model. \n",
        "\n",
        "  # Implement L2 regularization in the first hidden layer.\n",
        "  model.add(tf.keras.layers.Dense(units=20, \n",
        "                                  activation='relu',\n",
        "                                  kernel_regularizer=tf.keras.regularizers.l2(0.04),\n",
        "                                  name='Hidden1'))\n",
        "  \n",
        "  # Implement L2 regularization in the second hidden layer.\n",
        "  model.add(tf.keras.layers.Dense(units=12, \n",
        "                                  activation='relu', \n",
        "                                  kernel_regularizer=tf.keras.regularizers.l2(0.04),\n",
        "                                  name='Hidden2'))\n",
        "\n",
        "  # Define the output layer.\n",
        "  model.add(tf.keras.layers.Dense(units=1,  \n",
        "                                  name='Output'))                              \n",
        "  \n",
        "  model.compile(optimizer=tf.keras.optimizers.Adam(lr=my_learning_rate),\n",
        "                loss=\"mean_squared_error\",\n",
        "                metrics=[tf.keras.metrics.MeanSquaredError()])\n",
        "\n",
        "  return model     \n",
        "\n",
        "# Call the new create_model function and the other (unchanged) functions.\n",
        "\n",
        "# The following variables are the hyperparameters.\n",
        "learning_rate = 0.007\n",
        "epochs = 140\n",
        "batch_size = 1000\n",
        "\n",
        "label_name = \"median_house_value\"\n",
        "\n",
        "# Establish the model's topography.\n",
        "my_model = create_model(learning_rate, my_feature_layer)\n",
        "\n",
        "# Train the model on the normalized training set.\n",
        "epochs, mse = train_model(my_model, train_df_norm, epochs, \n",
        "                          label_name, batch_size)\n",
        "plot_the_loss_curve(epochs, mse)\n",
        "\n",
        "test_features = {name:np.array(value) for name, value in test_df_norm.items()}\n",
        "test_label = np.array(test_features.pop(label_name)) # isolate the label\n",
        "print(\"\\n Evaluate the new model against the test set:\")\n",
        "my_model.evaluate(x = test_features, y = test_label, batch_size=batch_size) "
      ],
      "execution_count": null,
      "outputs": [
        {
          "output_type": "stream",
          "name": "stdout",
          "text": [
            "Epoch 1/140\n",
            "WARNING:tensorflow:Layers in a Sequential model should only have a single input tensor, but we receive a <class 'dict'> input: {'longitude': <tf.Tensor 'IteratorGetNext:3' shape=(1000,) dtype=float32>, 'latitude': <tf.Tensor 'IteratorGetNext:2' shape=(1000,) dtype=float32>, 'housing_median_age': <tf.Tensor 'IteratorGetNext:1' shape=(1000,) dtype=float32>, 'total_rooms': <tf.Tensor 'IteratorGetNext:7' shape=(1000,) dtype=float32>, 'total_bedrooms': <tf.Tensor 'IteratorGetNext:6' shape=(1000,) dtype=float32>, 'population': <tf.Tensor 'IteratorGetNext:5' shape=(1000,) dtype=float32>, 'households': <tf.Tensor 'IteratorGetNext:0' shape=(1000,) dtype=float32>, 'median_income': <tf.Tensor 'IteratorGetNext:4' shape=(1000,) dtype=float32>}\n",
            "Consider rewriting this model with the Functional API.\n"
          ]
        },
        {
          "output_type": "stream",
          "name": "stderr",
          "text": [
            "/usr/local/lib/python3.7/dist-packages/keras/optimizer_v2/adam.py:105: UserWarning: The `lr` argument is deprecated, use `learning_rate` instead.\n",
            "  super(Adam, self).__init__(name, **kwargs)\n"
          ]
        },
        {
          "output_type": "stream",
          "name": "stdout",
          "text": [
            "WARNING:tensorflow:Layers in a Sequential model should only have a single input tensor, but we receive a <class 'dict'> input: {'longitude': <tf.Tensor 'IteratorGetNext:3' shape=(1000,) dtype=float32>, 'latitude': <tf.Tensor 'IteratorGetNext:2' shape=(1000,) dtype=float32>, 'housing_median_age': <tf.Tensor 'IteratorGetNext:1' shape=(1000,) dtype=float32>, 'total_rooms': <tf.Tensor 'IteratorGetNext:7' shape=(1000,) dtype=float32>, 'total_bedrooms': <tf.Tensor 'IteratorGetNext:6' shape=(1000,) dtype=float32>, 'population': <tf.Tensor 'IteratorGetNext:5' shape=(1000,) dtype=float32>, 'households': <tf.Tensor 'IteratorGetNext:0' shape=(1000,) dtype=float32>, 'median_income': <tf.Tensor 'IteratorGetNext:4' shape=(1000,) dtype=float32>}\n",
            "Consider rewriting this model with the Functional API.\n",
            "17/17 [==============================] - 1s 6ms/step - loss: 2.1060 - mean_squared_error: 0.9608\n",
            "Epoch 2/140\n",
            "17/17 [==============================] - 0s 6ms/step - loss: 0.9245 - mean_squared_error: 0.5983\n",
            "Epoch 3/140\n",
            "17/17 [==============================] - 0s 5ms/step - loss: 0.5938 - mean_squared_error: 0.4105\n",
            "Epoch 4/140\n",
            "17/17 [==============================] - 0s 4ms/step - loss: 0.5094 - mean_squared_error: 0.3916\n",
            "Epoch 5/140\n",
            "17/17 [==============================] - 0s 4ms/step - loss: 0.4755 - mean_squared_error: 0.3813\n",
            "Epoch 6/140\n",
            "17/17 [==============================] - 0s 4ms/step - loss: 0.4616 - mean_squared_error: 0.3769\n",
            "Epoch 7/140\n",
            "17/17 [==============================] - 0s 4ms/step - loss: 0.4539 - mean_squared_error: 0.3757\n",
            "Epoch 8/140\n",
            "17/17 [==============================] - 0s 5ms/step - loss: 0.4473 - mean_squared_error: 0.3752\n",
            "Epoch 9/140\n",
            "17/17 [==============================] - 0s 4ms/step - loss: 0.4435 - mean_squared_error: 0.3729\n",
            "Epoch 10/140\n",
            "17/17 [==============================] - 0s 4ms/step - loss: 0.4386 - mean_squared_error: 0.3706\n",
            "Epoch 11/140\n",
            "17/17 [==============================] - 0s 4ms/step - loss: 0.4356 - mean_squared_error: 0.3709\n",
            "Epoch 12/140\n",
            "17/17 [==============================] - 0s 4ms/step - loss: 0.4331 - mean_squared_error: 0.3685\n",
            "Epoch 13/140\n",
            "17/17 [==============================] - 0s 5ms/step - loss: 0.4292 - mean_squared_error: 0.3666\n",
            "Epoch 14/140\n",
            "17/17 [==============================] - 0s 4ms/step - loss: 0.4301 - mean_squared_error: 0.3699\n",
            "Epoch 15/140\n",
            "17/17 [==============================] - 0s 4ms/step - loss: 0.4297 - mean_squared_error: 0.3687\n",
            "Epoch 16/140\n",
            "17/17 [==============================] - 0s 5ms/step - loss: 0.4247 - mean_squared_error: 0.3659\n",
            "Epoch 17/140\n",
            "17/17 [==============================] - 0s 6ms/step - loss: 0.4222 - mean_squared_error: 0.3639\n",
            "Epoch 18/140\n",
            "17/17 [==============================] - 0s 5ms/step - loss: 0.4200 - mean_squared_error: 0.3626\n",
            "Epoch 19/140\n",
            "17/17 [==============================] - 0s 6ms/step - loss: 0.4187 - mean_squared_error: 0.3620\n",
            "Epoch 20/140\n",
            "17/17 [==============================] - 0s 6ms/step - loss: 0.4176 - mean_squared_error: 0.3614\n",
            "Epoch 21/140\n",
            "17/17 [==============================] - 0s 5ms/step - loss: 0.4174 - mean_squared_error: 0.3630\n",
            "Epoch 22/140\n",
            "17/17 [==============================] - 0s 6ms/step - loss: 0.4169 - mean_squared_error: 0.3620\n",
            "Epoch 23/140\n",
            "17/17 [==============================] - 0s 5ms/step - loss: 0.4143 - mean_squared_error: 0.3604\n",
            "Epoch 24/140\n",
            "17/17 [==============================] - 0s 6ms/step - loss: 0.4132 - mean_squared_error: 0.3601\n",
            "Epoch 25/140\n",
            "17/17 [==============================] - 0s 6ms/step - loss: 0.4118 - mean_squared_error: 0.3583\n",
            "Epoch 26/140\n",
            "17/17 [==============================] - 0s 5ms/step - loss: 0.4095 - mean_squared_error: 0.3576\n",
            "Epoch 27/140\n",
            "17/17 [==============================] - 0s 6ms/step - loss: 0.4092 - mean_squared_error: 0.3578\n",
            "Epoch 28/140\n",
            "17/17 [==============================] - 0s 5ms/step - loss: 0.4078 - mean_squared_error: 0.3557\n",
            "Epoch 29/140\n",
            "17/17 [==============================] - 0s 6ms/step - loss: 0.4080 - mean_squared_error: 0.3582\n",
            "Epoch 30/140\n",
            "17/17 [==============================] - 0s 5ms/step - loss: 0.4099 - mean_squared_error: 0.3587\n",
            "Epoch 31/140\n",
            "17/17 [==============================] - 0s 5ms/step - loss: 0.4064 - mean_squared_error: 0.3571\n",
            "Epoch 32/140\n",
            "17/17 [==============================] - 0s 6ms/step - loss: 0.4044 - mean_squared_error: 0.3544\n",
            "Epoch 33/140\n",
            "17/17 [==============================] - 0s 5ms/step - loss: 0.4032 - mean_squared_error: 0.3549\n",
            "Epoch 34/140\n",
            "17/17 [==============================] - 0s 5ms/step - loss: 0.4043 - mean_squared_error: 0.3550\n",
            "Epoch 35/140\n",
            "17/17 [==============================] - 0s 6ms/step - loss: 0.4033 - mean_squared_error: 0.3547\n",
            "Epoch 36/140\n",
            "17/17 [==============================] - 0s 6ms/step - loss: 0.4032 - mean_squared_error: 0.3552\n",
            "Epoch 37/140\n",
            "17/17 [==============================] - 0s 6ms/step - loss: 0.4016 - mean_squared_error: 0.3543\n",
            "Epoch 38/140\n",
            "17/17 [==============================] - 0s 5ms/step - loss: 0.4001 - mean_squared_error: 0.3524\n",
            "Epoch 39/140\n",
            "17/17 [==============================] - 0s 7ms/step - loss: 0.4035 - mean_squared_error: 0.3566\n",
            "Epoch 40/140\n",
            "17/17 [==============================] - 0s 5ms/step - loss: 0.4010 - mean_squared_error: 0.3543\n",
            "Epoch 41/140\n",
            "17/17 [==============================] - 0s 6ms/step - loss: 0.4046 - mean_squared_error: 0.3583\n",
            "Epoch 42/140\n",
            "17/17 [==============================] - 0s 5ms/step - loss: 0.4029 - mean_squared_error: 0.3561\n",
            "Epoch 43/140\n",
            "17/17 [==============================] - 0s 6ms/step - loss: 0.4001 - mean_squared_error: 0.3548\n",
            "Epoch 44/140\n",
            "17/17 [==============================] - 0s 5ms/step - loss: 0.3987 - mean_squared_error: 0.3536\n",
            "Epoch 45/140\n",
            "17/17 [==============================] - 0s 5ms/step - loss: 0.3978 - mean_squared_error: 0.3517\n",
            "Epoch 46/140\n",
            "17/17 [==============================] - 0s 4ms/step - loss: 0.3975 - mean_squared_error: 0.3523\n",
            "Epoch 47/140\n",
            "17/17 [==============================] - 0s 4ms/step - loss: 0.3975 - mean_squared_error: 0.3532\n",
            "Epoch 48/140\n",
            "17/17 [==============================] - 0s 3ms/step - loss: 0.3964 - mean_squared_error: 0.3512\n",
            "Epoch 49/140\n",
            "17/17 [==============================] - 0s 4ms/step - loss: 0.3974 - mean_squared_error: 0.3531\n",
            "Epoch 50/140\n",
            "17/17 [==============================] - 0s 4ms/step - loss: 0.3943 - mean_squared_error: 0.3502\n",
            "Epoch 51/140\n",
            "17/17 [==============================] - 0s 4ms/step - loss: 0.3942 - mean_squared_error: 0.3504\n",
            "Epoch 52/140\n",
            "17/17 [==============================] - 0s 4ms/step - loss: 0.3940 - mean_squared_error: 0.3498\n",
            "Epoch 53/140\n",
            "17/17 [==============================] - 0s 4ms/step - loss: 0.3956 - mean_squared_error: 0.3525\n",
            "Epoch 54/140\n",
            "17/17 [==============================] - 0s 4ms/step - loss: 0.3935 - mean_squared_error: 0.3503\n",
            "Epoch 55/140\n",
            "17/17 [==============================] - 0s 4ms/step - loss: 0.3941 - mean_squared_error: 0.3505\n",
            "Epoch 56/140\n",
            "17/17 [==============================] - 0s 5ms/step - loss: 0.3939 - mean_squared_error: 0.3507\n",
            "Epoch 57/140\n",
            "17/17 [==============================] - 0s 5ms/step - loss: 0.3925 - mean_squared_error: 0.3501\n",
            "Epoch 58/140\n",
            "17/17 [==============================] - 0s 5ms/step - loss: 0.3933 - mean_squared_error: 0.3509\n",
            "Epoch 59/140\n",
            "17/17 [==============================] - 0s 5ms/step - loss: 0.3932 - mean_squared_error: 0.3504\n",
            "Epoch 60/140\n",
            "17/17 [==============================] - 0s 5ms/step - loss: 0.3923 - mean_squared_error: 0.3502\n",
            "Epoch 61/140\n",
            "17/17 [==============================] - 0s 5ms/step - loss: 0.3909 - mean_squared_error: 0.3487\n",
            "Epoch 62/140\n",
            "17/17 [==============================] - 0s 6ms/step - loss: 0.3923 - mean_squared_error: 0.3503\n",
            "Epoch 63/140\n",
            "17/17 [==============================] - 0s 5ms/step - loss: 0.3915 - mean_squared_error: 0.3492\n",
            "Epoch 64/140\n",
            "17/17 [==============================] - 0s 5ms/step - loss: 0.3918 - mean_squared_error: 0.3510\n",
            "Epoch 65/140\n",
            "17/17 [==============================] - 0s 6ms/step - loss: 0.3895 - mean_squared_error: 0.3485\n",
            "Epoch 66/140\n",
            "17/17 [==============================] - 0s 6ms/step - loss: 0.3889 - mean_squared_error: 0.3467\n",
            "Epoch 67/140\n",
            "17/17 [==============================] - 0s 6ms/step - loss: 0.3911 - mean_squared_error: 0.3500\n",
            "Epoch 68/140\n",
            "17/17 [==============================] - 0s 5ms/step - loss: 0.3904 - mean_squared_error: 0.3496\n",
            "Epoch 69/140\n",
            "17/17 [==============================] - 0s 4ms/step - loss: 0.3935 - mean_squared_error: 0.3526\n",
            "Epoch 70/140\n",
            "17/17 [==============================] - 0s 4ms/step - loss: 0.3945 - mean_squared_error: 0.3534\n",
            "Epoch 71/140\n",
            "17/17 [==============================] - 0s 4ms/step - loss: 0.3872 - mean_squared_error: 0.3464\n",
            "Epoch 72/140\n",
            "17/17 [==============================] - 0s 4ms/step - loss: 0.3868 - mean_squared_error: 0.3460\n",
            "Epoch 73/140\n",
            "17/17 [==============================] - 0s 4ms/step - loss: 0.3873 - mean_squared_error: 0.3470\n",
            "Epoch 74/140\n",
            "17/17 [==============================] - 0s 4ms/step - loss: 0.3872 - mean_squared_error: 0.3469\n",
            "Epoch 75/140\n",
            "17/17 [==============================] - 0s 4ms/step - loss: 0.3907 - mean_squared_error: 0.3509\n",
            "Epoch 76/140\n",
            "17/17 [==============================] - 0s 4ms/step - loss: 0.3870 - mean_squared_error: 0.3469\n",
            "Epoch 77/140\n",
            "17/17 [==============================] - 0s 4ms/step - loss: 0.3877 - mean_squared_error: 0.3482\n",
            "Epoch 78/140\n",
            "17/17 [==============================] - 0s 4ms/step - loss: 0.3871 - mean_squared_error: 0.3478\n",
            "Epoch 79/140\n",
            "17/17 [==============================] - 0s 4ms/step - loss: 0.3852 - mean_squared_error: 0.3455\n",
            "Epoch 80/140\n",
            "17/17 [==============================] - 0s 4ms/step - loss: 0.3845 - mean_squared_error: 0.3452\n",
            "Epoch 81/140\n",
            "17/17 [==============================] - 0s 4ms/step - loss: 0.3860 - mean_squared_error: 0.3470\n",
            "Epoch 82/140\n",
            "17/17 [==============================] - 0s 4ms/step - loss: 0.3905 - mean_squared_error: 0.3514\n",
            "Epoch 83/140\n",
            "17/17 [==============================] - 0s 4ms/step - loss: 0.3844 - mean_squared_error: 0.3454\n",
            "Epoch 84/140\n",
            "17/17 [==============================] - 0s 4ms/step - loss: 0.3854 - mean_squared_error: 0.3466\n",
            "Epoch 85/140\n",
            "17/17 [==============================] - 0s 4ms/step - loss: 0.3848 - mean_squared_error: 0.3461\n",
            "Epoch 86/140\n",
            "17/17 [==============================] - 0s 5ms/step - loss: 0.3851 - mean_squared_error: 0.3462\n",
            "Epoch 87/140\n",
            "17/17 [==============================] - 0s 4ms/step - loss: 0.3857 - mean_squared_error: 0.3478\n",
            "Epoch 88/140\n",
            "17/17 [==============================] - 0s 4ms/step - loss: 0.3847 - mean_squared_error: 0.3462\n",
            "Epoch 89/140\n",
            "17/17 [==============================] - 0s 4ms/step - loss: 0.3861 - mean_squared_error: 0.3481\n",
            "Epoch 90/140\n",
            "17/17 [==============================] - 0s 4ms/step - loss: 0.3835 - mean_squared_error: 0.3460\n",
            "Epoch 91/140\n",
            "17/17 [==============================] - 0s 4ms/step - loss: 0.3830 - mean_squared_error: 0.3448\n",
            "Epoch 92/140\n",
            "17/17 [==============================] - 0s 5ms/step - loss: 0.3837 - mean_squared_error: 0.3459\n",
            "Epoch 93/140\n",
            "17/17 [==============================] - 0s 4ms/step - loss: 0.3864 - mean_squared_error: 0.3490\n",
            "Epoch 94/140\n",
            "17/17 [==============================] - 0s 4ms/step - loss: 0.3817 - mean_squared_error: 0.3436\n",
            "Epoch 95/140\n",
            "17/17 [==============================] - 0s 5ms/step - loss: 0.3824 - mean_squared_error: 0.3454\n",
            "Epoch 96/140\n",
            "17/17 [==============================] - 0s 5ms/step - loss: 0.3834 - mean_squared_error: 0.3455\n",
            "Epoch 97/140\n",
            "17/17 [==============================] - 0s 7ms/step - loss: 0.3829 - mean_squared_error: 0.3459\n",
            "Epoch 98/140\n",
            "17/17 [==============================] - 0s 5ms/step - loss: 0.3820 - mean_squared_error: 0.3450\n",
            "Epoch 99/140\n",
            "17/17 [==============================] - 0s 5ms/step - loss: 0.3819 - mean_squared_error: 0.3452\n",
            "Epoch 100/140\n",
            "17/17 [==============================] - 0s 5ms/step - loss: 0.3834 - mean_squared_error: 0.3463\n",
            "Epoch 101/140\n",
            "17/17 [==============================] - 0s 5ms/step - loss: 0.3855 - mean_squared_error: 0.3489\n",
            "Epoch 102/140\n",
            "17/17 [==============================] - 0s 6ms/step - loss: 0.3835 - mean_squared_error: 0.3476\n",
            "Epoch 103/140\n",
            "17/17 [==============================] - 0s 6ms/step - loss: 0.3807 - mean_squared_error: 0.3443\n",
            "Epoch 104/140\n",
            "17/17 [==============================] - 0s 6ms/step - loss: 0.3796 - mean_squared_error: 0.3441\n",
            "Epoch 105/140\n",
            "17/17 [==============================] - 0s 5ms/step - loss: 0.3805 - mean_squared_error: 0.3441\n",
            "Epoch 106/140\n",
            "17/17 [==============================] - 0s 5ms/step - loss: 0.3800 - mean_squared_error: 0.3433\n",
            "Epoch 107/140\n",
            "17/17 [==============================] - 0s 6ms/step - loss: 0.3797 - mean_squared_error: 0.3441\n",
            "Epoch 108/140\n",
            "17/17 [==============================] - 0s 5ms/step - loss: 0.3792 - mean_squared_error: 0.3435\n",
            "Epoch 109/140\n",
            "17/17 [==============================] - 0s 5ms/step - loss: 0.3796 - mean_squared_error: 0.3439\n",
            "Epoch 110/140\n",
            "17/17 [==============================] - 0s 5ms/step - loss: 0.3807 - mean_squared_error: 0.3448\n",
            "Epoch 111/140\n",
            "17/17 [==============================] - 0s 5ms/step - loss: 0.3787 - mean_squared_error: 0.3433\n",
            "Epoch 112/140\n",
            "17/17 [==============================] - 0s 5ms/step - loss: 0.3779 - mean_squared_error: 0.3428\n",
            "Epoch 113/140\n",
            "17/17 [==============================] - 0s 5ms/step - loss: 0.3785 - mean_squared_error: 0.3426\n",
            "Epoch 114/140\n",
            "17/17 [==============================] - 0s 5ms/step - loss: 0.3800 - mean_squared_error: 0.3453\n",
            "Epoch 115/140\n",
            "17/17 [==============================] - 0s 5ms/step - loss: 0.3794 - mean_squared_error: 0.3447\n",
            "Epoch 116/140\n",
            "17/17 [==============================] - 0s 5ms/step - loss: 0.3803 - mean_squared_error: 0.3448\n",
            "Epoch 117/140\n",
            "17/17 [==============================] - 0s 6ms/step - loss: 0.3780 - mean_squared_error: 0.3433\n",
            "Epoch 118/140\n",
            "17/17 [==============================] - 0s 5ms/step - loss: 0.3782 - mean_squared_error: 0.3434\n",
            "Epoch 119/140\n",
            "17/17 [==============================] - 0s 5ms/step - loss: 0.3801 - mean_squared_error: 0.3452\n",
            "Epoch 120/140\n",
            "17/17 [==============================] - 0s 5ms/step - loss: 0.3764 - mean_squared_error: 0.3418\n",
            "Epoch 121/140\n",
            "17/17 [==============================] - 0s 5ms/step - loss: 0.3783 - mean_squared_error: 0.3436\n",
            "Epoch 122/140\n",
            "17/17 [==============================] - 0s 6ms/step - loss: 0.3773 - mean_squared_error: 0.3432\n",
            "Epoch 123/140\n",
            "17/17 [==============================] - 0s 6ms/step - loss: 0.3771 - mean_squared_error: 0.3427\n",
            "Epoch 124/140\n",
            "17/17 [==============================] - 0s 5ms/step - loss: 0.3769 - mean_squared_error: 0.3421\n",
            "Epoch 125/140\n",
            "17/17 [==============================] - 0s 5ms/step - loss: 0.3767 - mean_squared_error: 0.3432\n",
            "Epoch 126/140\n",
            "17/17 [==============================] - 0s 5ms/step - loss: 0.3782 - mean_squared_error: 0.3437\n",
            "Epoch 127/140\n",
            "17/17 [==============================] - 0s 6ms/step - loss: 0.3769 - mean_squared_error: 0.3429\n",
            "Epoch 128/140\n",
            "17/17 [==============================] - 0s 5ms/step - loss: 0.3753 - mean_squared_error: 0.3418\n",
            "Epoch 129/140\n",
            "17/17 [==============================] - 0s 5ms/step - loss: 0.3756 - mean_squared_error: 0.3418\n",
            "Epoch 130/140\n",
            "17/17 [==============================] - 0s 6ms/step - loss: 0.3762 - mean_squared_error: 0.3426\n",
            "Epoch 131/140\n",
            "17/17 [==============================] - 0s 6ms/step - loss: 0.3749 - mean_squared_error: 0.3412\n",
            "Epoch 132/140\n",
            "17/17 [==============================] - 0s 6ms/step - loss: 0.3769 - mean_squared_error: 0.3436\n",
            "Epoch 133/140\n",
            "17/17 [==============================] - 0s 5ms/step - loss: 0.3751 - mean_squared_error: 0.3416\n",
            "Epoch 134/140\n",
            "17/17 [==============================] - 0s 6ms/step - loss: 0.3756 - mean_squared_error: 0.3425\n",
            "Epoch 135/140\n",
            "17/17 [==============================] - 0s 6ms/step - loss: 0.3779 - mean_squared_error: 0.3449\n",
            "Epoch 136/140\n",
            "17/17 [==============================] - 0s 5ms/step - loss: 0.3763 - mean_squared_error: 0.3435\n",
            "Epoch 137/140\n",
            "17/17 [==============================] - 0s 5ms/step - loss: 0.3754 - mean_squared_error: 0.3426\n",
            "Epoch 138/140\n",
            "17/17 [==============================] - 0s 5ms/step - loss: 0.3754 - mean_squared_error: 0.3426\n",
            "Epoch 139/140\n",
            "17/17 [==============================] - 0s 6ms/step - loss: 0.3746 - mean_squared_error: 0.3422\n",
            "Epoch 140/140\n",
            "17/17 [==============================] - 0s 5ms/step - loss: 0.3771 - mean_squared_error: 0.3443\n"
          ]
        },
        {
          "output_type": "display_data",
          "data": {
            "image/png": "[encoded data removed]",
            "text/plain": [
              "<Figure size 432x288 with 1 Axes>"
            ]
          },
          "metadata": {
            "needs_background": "light"
          }
        },
        {
          "output_type": "stream",
          "name": "stdout",
          "text": [
            "\n",
            " Evaluate the new model against the test set:\n",
            "WARNING:tensorflow:Layers in a Sequential model should only have a single input tensor, but we receive a <class 'dict'> input: {'longitude': <tf.Tensor 'IteratorGetNext:3' shape=(1000,) dtype=float32>, 'latitude': <tf.Tensor 'IteratorGetNext:2' shape=(1000,) dtype=float32>, 'housing_median_age': <tf.Tensor 'IteratorGetNext:1' shape=(1000,) dtype=float32>, 'total_rooms': <tf.Tensor 'IteratorGetNext:7' shape=(1000,) dtype=float32>, 'total_bedrooms': <tf.Tensor 'IteratorGetNext:6' shape=(1000,) dtype=float32>, 'population': <tf.Tensor 'IteratorGetNext:5' shape=(1000,) dtype=float32>, 'households': <tf.Tensor 'IteratorGetNext:0' shape=(1000,) dtype=float32>, 'median_income': <tf.Tensor 'IteratorGetNext:4' shape=(1000,) dtype=float32>}\n",
            "Consider rewriting this model with the Functional API.\n",
            "3/3 [==============================] - 0s 6ms/step - loss: 0.4109 - mean_squared_error: 0.3786\n"
          ]
        },
        {
          "output_type": "execute_result",
          "data": {
            "text/plain": [
              "[0.4108603596687317, 0.3785620927810669]"
            ]
          },
          "metadata": {},
          "execution_count": 13
        }
      ]
    }
  ]
}